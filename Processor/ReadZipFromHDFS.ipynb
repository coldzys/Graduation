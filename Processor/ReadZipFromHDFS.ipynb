{
 "cells": [
  {
   "cell_type": "code",
   "execution_count": 1,
   "outputs": [],
   "source": [
    "from pyspark.sql import SparkSession"
   ],
   "metadata": {
    "collapsed": false,
    "pycharm": {
     "name": "#%%\n"
    }
   }
  },
  {
   "cell_type": "code",
   "execution_count": 2,
   "outputs": [
    {
     "name": "stderr",
     "output_type": "stream",
     "text": [
      "WARNING: An illegal reflective access operation has occurred\n",
      "WARNING: Illegal reflective access by org.apache.spark.unsafe.Platform (file:/home/fatcat2me/miniconda3/envs/grad/lib/python3.8/site-packages/pyspark/jars/spark-unsafe_2.12-3.2.1.jar) to constructor java.nio.DirectByteBuffer(long,int)\n",
      "WARNING: Please consider reporting this to the maintainers of org.apache.spark.unsafe.Platform\n",
      "WARNING: Use --illegal-access=warn to enable warnings of further illegal reflective access operations\n",
      "WARNING: All illegal access operations will be denied in a future release\n",
      "Using Spark's default log4j profile: org/apache/spark/log4j-defaults.properties\n",
      "Setting default log level to \"WARN\".\n",
      "To adjust logging level use sc.setLogLevel(newLevel). For SparkR, use setLogLevel(newLevel).\n",
      "22/05/16 10:07:42 WARN NativeCodeLoader: Unable to load native-hadoop library for your platform... using builtin-java classes where applicable\n"
     ]
    }
   ],
   "source": [
    "spark = SparkSession.builder.getOrCreate()"
   ],
   "metadata": {
    "collapsed": false,
    "pycharm": {
     "name": "#%%\n"
    }
   }
  },
  {
   "cell_type": "code",
   "execution_count": 3,
   "outputs": [],
   "source": [
    "import zipfile\n",
    "import io\n",
    "\n",
    "\n",
    "def zip_extract(x):\n",
    "    in_memory_data = io.BytesIO(x[1])\n",
    "    file_obj = zipfile.ZipFile(in_memory_data, \"r\")\n",
    "    files = [i for i in file_obj.namelist()]\n",
    "    return [(str(file_obj.open(file).read().decode(\"UTF-8\")),) for file in files]"
   ],
   "metadata": {
    "collapsed": false,
    "pycharm": {
     "name": "#%%\n"
    }
   }
  },
  {
   "cell_type": "code",
   "execution_count": 4,
   "outputs": [],
   "source": [
    "zips = spark.sparkContext.binaryFiles(\"hdfs://127.0.0.1:9000/fedora/raw/stream/*\")"
   ],
   "metadata": {
    "collapsed": false,
    "pycharm": {
     "name": "#%%\n"
    }
   }
  },
  {
   "cell_type": "code",
   "execution_count": 5,
   "outputs": [
    {
     "name": "stderr",
     "output_type": "stream",
     "text": [
      "                                                                                \r"
     ]
    }
   ],
   "source": [
    "files_data = zips.flatMap(zip_extract).toDF()"
   ],
   "metadata": {
    "collapsed": false,
    "pycharm": {
     "name": "#%%\n"
    }
   }
  },
  {
   "cell_type": "code",
   "execution_count": 6,
   "outputs": [],
   "source": [
    "from pyspark.sql.types import *\n",
    "\n",
    "schema = StructType([\n",
    "    StructField(\"year\", StringType()),\n",
    "    StructField(\"city\", StringType()),\n",
    "    StructField(\"price\", StringType()),\n",
    "    StructField(\"vin\", StringType()),\n",
    "    StructField(\"model\", StringType()),\n",
    "    StructField(\"state\", StringType()),\n",
    "    StructField(\"make\", StringType()),\n",
    "    StructField(\"mileage\", StringType())\n",
    "])"
   ],
   "metadata": {
    "collapsed": false,
    "pycharm": {
     "name": "#%%\n"
    }
   }
  },
  {
   "cell_type": "code",
   "execution_count": 7,
   "outputs": [],
   "source": [
    "from pyspark.sql.functions import *"
   ],
   "metadata": {
    "collapsed": false,
    "pycharm": {
     "name": "#%%\n"
    }
   }
  },
  {
   "cell_type": "code",
   "execution_count": 8,
   "outputs": [],
   "source": [
    "df = files_data.withColumn(\"jsonData\", from_json(col(\"_1\"), schema)).select(\"jsonData.*\")"
   ],
   "metadata": {
    "collapsed": false,
    "pycharm": {
     "name": "#%%\n"
    }
   }
  },
  {
   "cell_type": "code",
   "execution_count": 9,
   "outputs": [],
   "source": [
    "df = df.withColumn(\"year\", df.year.cast(\"int\"))\\\n",
    "    .withColumn(\"price\", df.price.cast(\"int\"))\\\n",
    "    .withColumn(\"mileage\", df.mileage.cast(\"int\"))"
   ],
   "metadata": {
    "collapsed": false,
    "pycharm": {
     "name": "#%%\n"
    }
   }
  },
  {
   "cell_type": "code",
   "execution_count": 11,
   "outputs": [
    {
     "name": "stderr",
     "output_type": "stream",
     "text": [
      "                                                                                \r"
     ]
    },
    {
     "data": {
      "text/plain": "   year          city  price                vin            model state  \\\n0  2010        Lemont  15990  WDCGG8HB3AF286045  GLK-Class4MATIC    IL   \n1  2014     Hillsboro  23950  WDDGF8AB8EA942297      C-ClassC300    OR   \n2  2014     Doraville  22599  WDDSJ4GB8EN121640  CLA-ClassCLA250    GA   \n3  2015  Walnut Creek  25500  55SWF4JB3FU059956      C-ClassC300    CA   \n4  2014      Columbus  25950  WDDSJ4GB6EN105789  CLA-ClassCLA250    OH   \n\n            make  mileage  \n0  Mercedes-Benz    99042  \n1  Mercedes-Benz    39888  \n2  Mercedes-Benz    50313  \n3  Mercedes-Benz    29825  \n4  Mercedes-Benz    21468  ",
      "text/html": "<div>\n<style scoped>\n    .dataframe tbody tr th:only-of-type {\n        vertical-align: middle;\n    }\n\n    .dataframe tbody tr th {\n        vertical-align: top;\n    }\n\n    .dataframe thead th {\n        text-align: right;\n    }\n</style>\n<table border=\"1\" class=\"dataframe\">\n  <thead>\n    <tr style=\"text-align: right;\">\n      <th></th>\n      <th>year</th>\n      <th>city</th>\n      <th>price</th>\n      <th>vin</th>\n      <th>model</th>\n      <th>state</th>\n      <th>make</th>\n      <th>mileage</th>\n    </tr>\n  </thead>\n  <tbody>\n    <tr>\n      <th>0</th>\n      <td>2010</td>\n      <td>Lemont</td>\n      <td>15990</td>\n      <td>WDCGG8HB3AF286045</td>\n      <td>GLK-Class4MATIC</td>\n      <td>IL</td>\n      <td>Mercedes-Benz</td>\n      <td>99042</td>\n    </tr>\n    <tr>\n      <th>1</th>\n      <td>2014</td>\n      <td>Hillsboro</td>\n      <td>23950</td>\n      <td>WDDGF8AB8EA942297</td>\n      <td>C-ClassC300</td>\n      <td>OR</td>\n      <td>Mercedes-Benz</td>\n      <td>39888</td>\n    </tr>\n    <tr>\n      <th>2</th>\n      <td>2014</td>\n      <td>Doraville</td>\n      <td>22599</td>\n      <td>WDDSJ4GB8EN121640</td>\n      <td>CLA-ClassCLA250</td>\n      <td>GA</td>\n      <td>Mercedes-Benz</td>\n      <td>50313</td>\n    </tr>\n    <tr>\n      <th>3</th>\n      <td>2015</td>\n      <td>Walnut Creek</td>\n      <td>25500</td>\n      <td>55SWF4JB3FU059956</td>\n      <td>C-ClassC300</td>\n      <td>CA</td>\n      <td>Mercedes-Benz</td>\n      <td>29825</td>\n    </tr>\n    <tr>\n      <th>4</th>\n      <td>2014</td>\n      <td>Columbus</td>\n      <td>25950</td>\n      <td>WDDSJ4GB6EN105789</td>\n      <td>CLA-ClassCLA250</td>\n      <td>OH</td>\n      <td>Mercedes-Benz</td>\n      <td>21468</td>\n    </tr>\n  </tbody>\n</table>\n</div>"
     },
     "execution_count": 11,
     "metadata": {},
     "output_type": "execute_result"
    }
   ],
   "source": [
    "df.toPandas().head()"
   ],
   "metadata": {
    "collapsed": false,
    "pycharm": {
     "name": "#%%\n"
    }
   }
  },
  {
   "cell_type": "code",
   "execution_count": null,
   "outputs": [],
   "source": [],
   "metadata": {
    "collapsed": false,
    "pycharm": {
     "name": "#%%\n"
    }
   }
  }
 ],
 "metadata": {
  "kernelspec": {
   "display_name": "Python 3",
   "language": "python",
   "name": "python3"
  },
  "language_info": {
   "codemirror_mode": {
    "name": "ipython",
    "version": 2
   },
   "file_extension": ".py",
   "mimetype": "text/x-python",
   "name": "python",
   "nbconvert_exporter": "python",
   "pygments_lexer": "ipython2",
   "version": "2.7.6"
  }
 },
 "nbformat": 4,
 "nbformat_minor": 0
}